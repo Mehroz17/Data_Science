{
 "cells": [
  {
   "cell_type": "markdown",
   "metadata": {},
   "source": [
    "Assignmnet 2 IDS\n",
    "\n",
    "<br> Muhammad Mehroz \n",
    "<br> FA20-BSE-071 \n",
    "<br> Intro to Data Science Assignmnet 2\n",
    "<br>\n",
    "* Prepare the test data by opening the file in read only mode\n",
    "* Print out the details of the email (who the emails are from i.e. Just Name) using raw\n",
    "Python code\n",
    "* Now Use re module and do it with REGEX (Just Name)\n",
    "* Now use regax to find out the email address of senders\n",
    "* Now extract the first part of the email address\n",
    "* Extract after the @\n",
    "* Sort each email into the following categories"
   ]
  },
  {
   "cell_type": "code",
   "execution_count": 2,
   "metadata": {},
   "outputs": [],
   "source": [
    "import re\n",
    "import pandas as pd"
   ]
  },
  {
   "cell_type": "markdown",
   "metadata": {},
   "source": [
    "Prepareing the test data by opening the file in read only mode"
   ]
  },
  {
   "cell_type": "code",
   "execution_count": 3,
   "metadata": {},
   "outputs": [
    {
     "name": "stdout",
     "output_type": "stream",
     "text": [
      "From r  Thu Oct 31 08:11:39 2002\n",
      "Return-Path: <bensul2004nng@spinfinder.com>\n",
      "X-Sieve: cmu-sieve 2.0\n",
      "Return-Path: <bensul2004nng@spinfinder.com>\n",
      "Message-Id: <200210311310.g9VDANt24674@bloodwork.mr.itd.UM>\n",
      "From: \"Mr. Ben Suleman\" <bensul2004nng@spinfinder.com>\n",
      "Date: Thu, 31 Oct 2002 05:10:00\n",
      "To: R@M\n",
      "Subject: URGENT ASSISTANCE /RELATIONSHIP (P)\n",
      "MIME-Version: 1.0\n",
      "Content-Type: text/plain;charset=\"iso-8859-1\"\n",
      "Content-Transfer-Encoding: 7bit\n",
      "Status: O\n",
      "\n",
      "Dear Friend,\n",
      "\n",
      "I am Mr. Ben Suleman a custom officer and work as Assistant controller of the Customs and Excise department Of the Federal Ministry of Internal Affairs stationed at the Murtala Mohammed International Airport, Ikeja, Lagos-Nigeria.\n",
      "\n",
      "After the sudden death of the former Head of state of Nigeria General Sanni Abacha on June 8th 1998 his aides and immediate members of his family were arrested while trying to escape from Nigeria in a Chartered jet to Saudi Arabia with 6 trunk boxes Marked \"Diplomatic Baggage\". Acting on a tip-off as they attempted to board the Air Craft,my officials carried out a thorough search on the air craft and discovered that the 6 trunk boxes contained foreign currencies amounting to US$197,570,000.00(One Hundred and  Ninety-Seven Million Five Hundred Seventy Thousand United States Dollars).\n",
      "\n",
      "I declared only (5) five boxes to the government and withheld one (1) in my custody containing the sum of (US$30,000,000.00) Thirty Million United States Dollars Only, which has been disguised to prevent their being discovered during transportation process.Due to several media reports on the late head of state about all the money him and his co-government officials stole from our government treasury amounting\n",
      "to US$55 Billion Dollars (ref:ngrguardiannews.com) of July 2nd 1999. Even the London times of July 1998 reported that General Abacha has over US$3.Billion dollars in one account overseas. We decided to conceal this one (1)box till the situation is calm and quite on the issue. The box was thus deposited with a security company here in Nigeria and tagged as \"Precious Stones and Jewellry\" in other that its\n",
      "content will not be discovered. Now that all is calm, we (myself and two of my colleagues in the operations team) are now ready to move this box out of the country through a diplomatic arrangement which is the safest means. \n",
      "\n",
      "However as government officials the Civil Service Code of Conduct does not allow us by law to operate any foreign account or own foreign investment and the amount of money that can be found in our account\n",
      "cannot be more than our salary on the average, thus our handicapp and our need for your assistance to help collect and keep safely in your account this money.\n",
      "\n",
      "Therefore we want you to assist us in moving this money out of Nigeria. We shall definitely compensate you handsomely for the assistance. We can do this by instructing the Security Company here in Nigeria to\n",
      "move the consignment to their affiliate branch office outside Nigeria through diplomatic means and the consignment will be termed as Precious Stones and Jewelleries\" which you bought during your visit to Nigeria and is being transfered to your country from here for safe keeping. Then we can arrange to meet at the destination country to take the delivery of the consignment. You will thereafter open an account there and lodge the Money there and gradually instruct remittance to your Country. \n",
      "\n",
      "This business is 100% risk free for you so please treat this matter with utmost confidentiality .If you indicate your interest to assist us please just e-mail me for more Explanation on how we plan to execute the transaction.\n",
      "\n",
      "Expecting your response urgently.\n",
      "\n",
      "Best regards,\n",
      "\n",
      "Mr. Ben Suleman\n",
      "\n",
      "From r  Thu Oct 31 17:27:16 2002\n",
      "Return-Path: <obong_715@epatra.com>\n",
      "X-Sieve: cmu-sieve 2.0\n",
      "Return-Path: <obong_715@epatra.com>\n",
      "Message-Id: <200210312227.g9VMQvDj017948@bluewhale.cs.CU>\n",
      "From: \"PRINCE OBONG ELEME\" <obong_715@epatra.com>\n",
      "Reply-To: obong_715@epatra.com\n",
      "To: webmaster@aclweb.org\n",
      "Date: Thu, 31 Oct 2002 22:17:55 +0100\n",
      "Subject: GOOD DAY TO YOU\n",
      "X-Mailer: Microsoft Outlook Express 5.00.2919.6900DM\n",
      "MIME-Version: 1.0\n",
      "Content-Type: text/plain; charset=\"us-ascii\"\n",
      "Content-Transfer-Encoding: 8bit\n",
      "X-MIME-Autoconverted: from quoted-printable to 8bit by sideshowmel.si.UM id g9VMRBW20642\n",
      "Status: RO\n",
      "\n",
      "FROM HIS ROYAL MAJESTY (HRM) CROWN RULER OF ELEME KINGDOM \n",
      "CHIEF DANIEL ELEME, PHD, EZE 1 OF ELEME.E-MAIL \n",
      "ADDRESS:obong_715@epatra.com  \n",
      "\n",
      "ATTENTION:PRESIDENT,CEO Sir/ Madam. \n",
      "\n",
      "This letter might surprise you because we have met\n",
      "neither in person nor by correspondence. But I believe\n",
      "it is one day that you got to know somebody either in\n",
      "physical or through correspondence. \n",
      "\n",
      "I got your contact through discreet inquiry from the\n",
      "chambers of commerce and industry of your country on\n",
      "the net, you and your organization were revealed as\n",
      "being quite astute in private entrepreneurship, one\n",
      "has no doubt in your ability to handle a financialbusiness transaction. \n",
      "\n",
      "However, I am the first son of His Royal\n",
      "majesty,Obong.D. Eleme , and the traditional Ruler of\n",
      "Eleme Province in the oil producing area of River\n",
      "State of Nigeria. I am making this contact to you in\n",
      "respect of US$60,000,000.00 (Sixty Million United\n",
      "State Dollars), which I inherited, from my latefather. \n",
      "\n",
      "This money was accumulated from royalties paid to my\n",
      "father as compensation by the oil firms located in our\n",
      "area as a result of oil presence on our land, which\n",
      "hamper agriculture, which is our major source oflivelihood. \n",
      "\n",
      "Unfortunately my father died from protracted\n",
      "diabetes.But before his death he called my attention\n",
      "and informed me that he lodged some funds on a two\n",
      "boxes with a security firm with an open beneficiary\n",
      "status. The lodgment security code number was also\n",
      "revealed to me, he then advised me to look for a\n",
      "reliable business partner abroad, that will assist me\n",
      "in investing the money in a lucrative business as a\n",
      "result of economic instability in Nigeria. So this is\n",
      "the main reason why I am contacting you for us to move\n",
      "this money from the security firm to any Country of\n",
      "your choice for investment purpose. \n",
      "\n",
      "So I will like you to be the ultimate beneficiary, so\n",
      "that the funds can be moved in your name and\n",
      "particulars to any Country of your choice where it\n",
      "will be claimed and invested. Hence my father have had\n",
      "intimated the security firm personnel that the\n",
      "beneficiary of the box is his foreign partner whose\n",
      "particulars will be forwarded to the firm when due. \n",
      "\n",
      "But I will guide you Accordingly. As soon as the funds\n",
      "reach, I will then come over to meet you in person, so\n",
      "that we can discuss physically on investment\n",
      "potentials. Based on this assistance my Family and I\n",
      "have unanimously decided to give you 30% of the total\n",
      "money, 5% for Charity home, 10% for expenses, which\n",
      "may arise during this transaction, Fax and phone bills\n",
      "inclusive. The balance of 55% you will invest andmanaged for my Family. \n",
      "\n",
      "I hereby guarantee you that this is not government\n",
      "money, it is not drug money and it is not money from\n",
      "arms deal. Though you have to maintain high degree of\n",
      "confidentiality on this matter. I will give more\n",
      "details about the proceedings of this transaction as\n",
      "soon as I receive your favorable reply. \n",
      "\n",
      "Please reply to my Email Address:obong_715@epatra.com\n",
      "I hope this will be the beginning of a prosperous\n",
      "relationship between my family and your family. \n",
      "\n",
      "Nevertheless if you are for any reason not interested,\n",
      "kindly inform me immediately so that I will look foranother contact. \n",
      "\n",
      "I am waiting for your quick response. \n",
      "\n",
      "Yours faithfully, \n",
      "\n",
      "Prince Obong Abbot \n",
      "\n"
     ]
    }
   ],
   "source": [
    "file_name = \"test_email.txt\"\n",
    "with open (file_name,'r') as file_to_read:\n",
    "    s = file_to_read.read()\n",
    "print(s)"
   ]
  },
  {
   "cell_type": "markdown",
   "metadata": {},
   "source": [
    "Printing the first part of email only name using raw python"
   ]
  },
  {
   "cell_type": "code",
   "execution_count": 4,
   "metadata": {},
   "outputs": [
    {
     "name": "stdout",
     "output_type": "stream",
     "text": [
      "Sender Names are follows\n",
      " ['\"Mr. Ben Suleman\"', '\"PRINCE OBONG ELEME\"']\n"
     ]
    }
   ],
   "source": [
    "search_word = \"From:\" # as name is next to the From: heading so we\n",
    "# searching the word  \"From:\" \n",
    "li = s.split() # creating a list of the txt file\n",
    "count_of_search_word = li.count(search_word) # getting the count of search word\n",
    "index_of_search_word = li.index(search_word) #getting the index of search word \n",
    "sender_name = []\n",
    "for i in range(count_of_search_word):\n",
    "    if(i == 0): # and  when i =  0  means we are at the 1st from \n",
    "        sender_name.append( li[li.index(search_word)+1] + \" \"+ li[li.index(search_word)+2] + \" \" +li[li.index(search_word)+3])\n",
    "    else:\n",
    "        sender_name.append( li[li.index(search_word,index_of_search_word+1)+1] + \" \"+ li[li.index(search_word,index_of_search_word+1)+2] + \" \" +li[li.index(search_word,index_of_search_word+1)+3])\n",
    "\n",
    "print(\"Sender Names are follows\\n\",sender_name)\n",
    "\n"
   ]
  },
  {
   "cell_type": "markdown",
   "metadata": {},
   "source": [
    "Now using regeluar expression to find the name "
   ]
  },
  {
   "cell_type": "code",
   "execution_count": 5,
   "metadata": {},
   "outputs": [
    {
     "data": {
      "text/plain": [
       "['Mr. Ben Suleman', 'PRINCE OBONG ELEME']"
      ]
     },
     "execution_count": 5,
     "metadata": {},
     "output_type": "execute_result"
    }
   ],
   "source": [
    "# regular expression for sender name\n",
    "regex_sender_name = re.compile(r'From: \"(\\D+)\"') # this starts search from  From : \" and gets every thing with in the commas \n",
    "matching = regex_sender_name.findall(s)\n",
    "name_using_regex= []\n",
    "for i in matching:\n",
    "    name_using_regex.append(i)\n",
    "name_using_regex"
   ]
  },
  {
   "cell_type": "markdown",
   "metadata": {},
   "source": [
    "Now use regax to find out the email address of senders"
   ]
  },
  {
   "cell_type": "code",
   "execution_count": 6,
   "metadata": {},
   "outputs": [
    {
     "name": "stdout",
     "output_type": "stream",
     "text": [
      "Sender Emails\n",
      " ['bensul2004nng@spinfinder.com', 'obong_715@epatra.com']\n"
     ]
    }
   ],
   "source": [
    "email_addrees_sender_regex = re.compile(r\"\\w+\\@\\w+\\.(com)\") # this is regex only to extract emil of sender only\n",
    "matching_sender_regex = email_addrees_sender_regex.finditer(s) # Return an iter​ator yielding match objects over all non-ov​erl​apping matches\n",
    "sender_address = [] # list to store the address\n",
    "for i in matching_sender_regex:\n",
    "    sender_address.append(i.group())\n",
    "sender_address = list(set(sender_address))  # now removing the duplicates \n",
    "print(\"Sender Emails\\n\",sender_address)\n"
   ]
  },
  {
   "cell_type": "markdown",
   "metadata": {},
   "source": [
    "Extracting the first part of the email address"
   ]
  },
  {
   "cell_type": "code",
   "execution_count": 7,
   "metadata": {},
   "outputs": [
    {
     "data": {
      "text/plain": [
       "['obong_715',\n",
       " 'bensul2004nng',\n",
       " 'R',\n",
       " 'webmaster',\n",
       " '200210311310.g9VDANt24674',\n",
       " '200210312227.g9VMQvDj017948']"
      ]
     },
     "execution_count": 7,
     "metadata": {},
     "output_type": "execute_result"
    }
   ],
   "source": [
    "first_part_regex = re.compile(r\"([a-zA-Z0-9\\-\\_\\.]+)@\") #  inside parant​heses  indicate start and end of a group so it only matches that inside the paranthesis \n",
    "# above regex means that find word that ends with @\n",
    "first_part_of_eamil = first_part_regex.findall(s)\n",
    "# as we will get repeation so to avoid repeatiion\n",
    "first_part_of_eamil = list(set(first_part_of_eamil))\n",
    "first_part_of_eamil"
   ]
  },
  {
   "cell_type": "markdown",
   "metadata": {},
   "source": [
    "Extracting the last part of email"
   ]
  },
  {
   "cell_type": "code",
   "execution_count": 8,
   "metadata": {},
   "outputs": [
    {
     "data": {
      "text/plain": [
       "['@epatra.com',\n",
       " '@bloodwork.mr.itd.UM',\n",
       " '@aclweb.org',\n",
       " '@spinfinder.com',\n",
       " '@M',\n",
       " '@bluewhale.cs.CU']"
      ]
     },
     "execution_count": 8,
     "metadata": {},
     "output_type": "execute_result"
    }
   ],
   "source": [
    "second_part_regex = re.compile(r\"@[\\w\\.]+\") #  inside parant​heses  indicate start and end of a group so it only matches that inside the paranthesis \n",
    "# above regex means that find word that ends with @\n",
    "second_part_of_eamil = second_part_regex.findall(s)\n",
    "# as we will get repeation so to avoid repeatiion\n",
    "second_part_of_eamil = list(set(second_part_of_eamil))\n",
    "second_part_of_eamil"
   ]
  },
  {
   "cell_type": "markdown",
   "metadata": {},
   "source": [
    "Sorting the eamil "
   ]
  },
  {
   "cell_type": "code",
   "execution_count": 9,
   "metadata": {},
   "outputs": [
    {
     "data": {
      "text/plain": [
       "'From r  Thu Oct 31 08:11:39 2002Return-Path: <bensul2004nng@spinfinder.com>X-Sieve: cmu-sieve 2.0Return-Path: <bensul2004nng@spinfinder.com>Message-Id: <200210311310.g9VDANt24674@bloodwork.mr.itd.UM>From: \"Mr. Ben Suleman\" <bensul2004nng@spinfinder.com>Date: Thu, 31 Oct 2002 05:10:00To: R@MSubject: URGENT ASSISTANCE /RELATIONSHIP (P)MIME-Version: 1.0Content-Type: text/plain;charset=\"iso-8859-1\"Content-Transfer-Encoding: 7bitStatus: ODear Friend,I am Mr. Ben Suleman a custom officer and work as Assistant controller of the Customs and Excise department Of the Federal Ministry of Internal Affairs stationed at the Murtala Mohammed International Airport, Ikeja, Lagos-Nigeria.After the sudden death of the former Head of state of Nigeria General Sanni Abacha on June 8th 1998 his aides and immediate members of his family were arrested while trying to escape from Nigeria in a Chartered jet to Saudi Arabia with 6 trunk boxes Marked \"Diplomatic Baggage\". Acting on a tip-off as they attempted to board the Air Craft,my officials carried out a thorough search on the air craft and discovered that the 6 trunk boxes contained foreign currencies amounting to US$197,570,000.00(One Hundred and  Ninety-Seven Million Five Hundred Seventy Thousand United States Dollars).I declared only (5) five boxes to the government and withheld one (1) in my custody containing the sum of (US$30,000,000.00) Thirty Million United States Dollars Only, which has been disguised to prevent their being discovered during transportation process.Due to several media reports on the late head of state about all the money him and his co-government officials stole from our government treasury amountingto US$55 Billion Dollars (ref:ngrguardiannews.com) of July 2nd 1999. Even the London times of July 1998 reported that General Abacha has over US$3.Billion dollars in one account overseas. We decided to conceal this one (1)box till the situation is calm and quite on the issue. The box was thus deposited with a security company here in Nigeria and tagged as \"Precious Stones and Jewellry\" in other that itscontent will not be discovered. Now that all is calm, we (myself and two of my colleagues in the operations team) are now ready to move this box out of the country through a diplomatic arrangement which is the safest means. However as government officials the Civil Service Code of Conduct does not allow us by law to operate any foreign account or own foreign investment and the amount of money that can be found in our accountcannot be more than our salary on the average, thus our handicapp and our need for your assistance to help collect and keep safely in your account this money.Therefore we want you to assist us in moving this money out of Nigeria. We shall definitely compensate you handsomely for the assistance. We can do this by instructing the Security Company here in Nigeria tomove the consignment to their affiliate branch office outside Nigeria through diplomatic means and the consignment will be termed as Precious Stones and Jewelleries\" which you bought during your visit to Nigeria and is being transfered to your country from here for safe keeping. Then we can arrange to meet at the destination country to take the delivery of the consignment. You will thereafter open an account there and lodge the Money there and gradually instruct remittance to your Country. This business is 100% risk free for you so please treat this matter with utmost confidentiality .If you indicate your interest to assist us please just e-mail me for more Explanation on how we plan to execute the transaction.Expecting your response urgently.Best regards,Mr. Ben SulemanFrom r  Thu Oct 31 17:27:16 2002Return-Path: <obong_715@epatra.com>X-Sieve: cmu-sieve 2.0Return-Path: <obong_715@epatra.com>Message-Id: <200210312227.g9VMQvDj017948@bluewhale.cs.CU>From: \"PRINCE OBONG ELEME\" <obong_715@epatra.com>Reply-To: obong_715@epatra.comTo: webmaster@aclweb.orgDate: Thu, 31 Oct 2002 22:17:55 +0100Subject: GOOD DAY TO YOUX-Mailer: Microsoft Outlook Express 5.00.2919.6900DMMIME-Version: 1.0Content-Type: text/plain; charset=\"us-ascii\"Content-Transfer-Encoding: 8bitX-MIME-Autoconverted: from quoted-printable to 8bit by sideshowmel.si.UM id g9VMRBW20642Status: ROFROM HIS ROYAL MAJESTY (HRM) CROWN RULER OF ELEME KINGDOM CHIEF DANIEL ELEME, PHD, EZE 1 OF ELEME.E-MAIL ADDRESS:obong_715@epatra.com  ATTENTION:PRESIDENT,CEO Sir/ Madam. This letter might surprise you because we have metneither in person nor by correspondence. But I believeit is one day that you got to know somebody either inphysical or through correspondence. I got your contact through discreet inquiry from thechambers of commerce and industry of your country onthe net, you and your organization were revealed asbeing quite astute in private entrepreneurship, onehas no doubt in your ability to handle a financialbusiness transaction. However, I am the first son of His Royalmajesty,Obong.D. Eleme , and the traditional Ruler ofEleme Province in the oil producing area of RiverState of Nigeria. I am making this contact to you inrespect of US$60,000,000.00 (Sixty Million UnitedState Dollars), which I inherited, from my latefather. This money was accumulated from royalties paid to myfather as compensation by the oil firms located in ourarea as a result of oil presence on our land, whichhamper agriculture, which is our major source oflivelihood. Unfortunately my father died from protracteddiabetes.But before his death he called my attentionand informed me that he lodged some funds on a twoboxes with a security firm with an open beneficiarystatus. The lodgment security code number was alsorevealed to me, he then advised me to look for areliable business partner abroad, that will assist mein investing the money in a lucrative business as aresult of economic instability in Nigeria. So this isthe main reason why I am contacting you for us to movethis money from the security firm to any Country ofyour choice for investment purpose. So I will like you to be the ultimate beneficiary, sothat the funds can be moved in your name andparticulars to any Country of your choice where itwill be claimed and invested. Hence my father have hadintimated the security firm personnel that thebeneficiary of the box is his foreign partner whoseparticulars will be forwarded to the firm when due. But I will guide you Accordingly. As soon as the fundsreach, I will then come over to meet you in person, sothat we can discuss physically on investmentpotentials. Based on this assistance my Family and Ihave unanimously decided to give you 30% of the totalmoney, 5% for Charity home, 10% for expenses, whichmay arise during this transaction, Fax and phone billsinclusive. The balance of 55% you will invest andmanaged for my Family. I hereby guarantee you that this is not governmentmoney, it is not drug money and it is not money fromarms deal. Though you have to maintain high degree ofconfidentiality on this matter. I will give moredetails about the proceedings of this transaction assoon as I receive your favorable reply. Please reply to my Email Address:obong_715@epatra.comI hope this will be the beginning of a prosperousrelationship between my family and your family. Nevertheless if you are for any reason not interested,kindly inform me immediately so that I will look foranother contact. I am waiting for your quick response. Yours faithfully, Prince Obong Abbot '"
      ]
     },
     "execution_count": 9,
     "metadata": {},
     "output_type": "execute_result"
    }
   ],
   "source": [
    "sorted_email = s.replace(\"\\n\",\"\")\n",
    "sorted_email"
   ]
  },
  {
   "cell_type": "markdown",
   "metadata": {},
   "source": [
    "Storing the Data in the File Name \"test_email2.txt\"\n"
   ]
  },
  {
   "cell_type": "code",
   "execution_count": 10,
   "metadata": {},
   "outputs": [
    {
     "name": "stdout",
     "output_type": "stream",
     "text": [
      "File Done\n"
     ]
    }
   ],
   "source": [
    "# this code creates a new file with name test_eamil2.txt and write it\n",
    "new_eamil_file = \"test_email2.txt\"\n",
    "with open(new_eamil_file ,\"a\") as new_file:\n",
    "    new_file.write(sorted_email)\n",
    "print(\"File Done\")"
   ]
  },
  {
   "cell_type": "markdown",
   "metadata": {},
   "source": [
    "Making the list of the emails<br>\n",
    "as we have 2 emails so 1st email will be on the first index and 2nd email will be on the 2nd index of the list"
   ]
  },
  {
   "cell_type": "code",
   "execution_count": 11,
   "metadata": {},
   "outputs": [
    {
     "data": {
      "text/plain": [
       "['  Thu Oct 31 08:11:39 2002Return-Path: <bensul2004nng@spinfinder.com>X-Sieve: cmu-sieve 2.0Return-Path: <bensul2004nng@spinfinder.com>Message-Id: <200210311310.g9VDANt24674@bloodwork.mr.itd.UM>From: \"Mr. Ben Suleman\" <bensul2004nng@spinfinder.com>Date: Thu, 31 Oct 2002 05:10:00To: R@MSubject: URGENT ASSISTANCE /RELATIONSHIP (P)MIME-Version: 1.0Content-Type: text/plain;charset=\"iso-8859-1\"Content-Transfer-Encoding: 7bitStatus: ODear Friend,I am Mr. Ben Suleman a custom officer and work as Assistant controller of the Customs and Excise department Of the Federal Ministry of Internal Affairs stationed at the Murtala Mohammed International Airport, Ikeja, Lagos-Nigeria.After the sudden death of the former Head of state of Nigeria General Sanni Abacha on June 8th 1998 his aides and immediate members of his family were arrested while trying to escape from Nigeria in a Chartered jet to Saudi Arabia with 6 trunk boxes Marked \"Diplomatic Baggage\". Acting on a tip-off as they attempted to board the Air Craft,my officials carried out a thorough search on the air craft and discovered that the 6 trunk boxes contained foreign currencies amounting to US$197,570,000.00(One Hundred and  Ninety-Seven Million Five Hundred Seventy Thousand United States Dollars).I declared only (5) five boxes to the government and withheld one (1) in my custody containing the sum of (US$30,000,000.00) Thirty Million United States Dollars Only, which has been disguised to prevent their being discovered during transportation process.Due to several media reports on the late head of state about all the money him and his co-government officials stole from our government treasury amountingto US$55 Billion Dollars (ref:ngrguardiannews.com) of July 2nd 1999. Even the London times of July 1998 reported that General Abacha has over US$3.Billion dollars in one account overseas. We decided to conceal this one (1)box till the situation is calm and quite on the issue. The box was thus deposited with a security company here in Nigeria and tagged as \"Precious Stones and Jewellry\" in other that itscontent will not be discovered. Now that all is calm, we (myself and two of my colleagues in the operations team) are now ready to move this box out of the country through a diplomatic arrangement which is the safest means. However as government officials the Civil Service Code of Conduct does not allow us by law to operate any foreign account or own foreign investment and the amount of money that can be found in our accountcannot be more than our salary on the average, thus our handicapp and our need for your assistance to help collect and keep safely in your account this money.Therefore we want you to assist us in moving this money out of Nigeria. We shall definitely compensate you handsomely for the assistance. We can do this by instructing the Security Company here in Nigeria tomove the consignment to their affiliate branch office outside Nigeria through diplomatic means and the consignment will be termed as Precious Stones and Jewelleries\" which you bought during your visit to Nigeria and is being transfered to your country from here for safe keeping. Then we can arrange to meet at the destination country to take the delivery of the consignment. You will thereafter open an account there and lodge the Money there and gradually instruct remittance to your Country. This business is 100% risk free for you so please treat this matter with utmost confidentiality .If you indicate your interest to assist us please just e-mail me for more Explanation on how we plan to execute the transaction.Expecting your response urgently.Best regards,Mr. Ben Suleman',\n",
       " '  Thu Oct 31 17:27:16 2002Return-Path: <obong_715@epatra.com>X-Sieve: cmu-sieve 2.0Return-Path: <obong_715@epatra.com>Message-Id: <200210312227.g9VMQvDj017948@bluewhale.cs.CU>From: \"PRINCE OBONG ELEME\" <obong_715@epatra.com>Reply-To: obong_715@epatra.comTo: webmaster@aclweb.orgDate: Thu, 31 Oct 2002 22:17:55 +0100Subject: GOOD DAY TO YOUX-Mailer: Microsoft Outlook Express 5.00.2919.6900DMMIME-Version: 1.0Content-Type: text/plain; charset=\"us-ascii\"Content-Transfer-Encoding: 8bitX-MIME-Autoconverted: from quoted-printable to 8bit by sideshowmel.si.UM id g9VMRBW20642Status: ROFROM HIS ROYAL MAJESTY (HRM) CROWN RULER OF ELEME KINGDOM CHIEF DANIEL ELEME, PHD, EZE 1 OF ELEME.E-MAIL ADDRESS:obong_715@epatra.com  ATTENTION:PRESIDENT,CEO Sir/ Madam. This letter might surprise you because we have metneither in person nor by correspondence. But I believeit is one day that you got to know somebody either inphysical or through correspondence. I got your contact through discreet inquiry from thechambers of commerce and industry of your country onthe net, you and your organization were revealed asbeing quite astute in private entrepreneurship, onehas no doubt in your ability to handle a financialbusiness transaction. However, I am the first son of His Royalmajesty,Obong.D. Eleme , and the traditional Ruler ofEleme Province in the oil producing area of RiverState of Nigeria. I am making this contact to you inrespect of US$60,000,000.00 (Sixty Million UnitedState Dollars), which I inherited, from my latefather. This money was accumulated from royalties paid to myfather as compensation by the oil firms located in ourarea as a result of oil presence on our land, whichhamper agriculture, which is our major source oflivelihood. Unfortunately my father died from protracteddiabetes.But before his death he called my attentionand informed me that he lodged some funds on a twoboxes with a security firm with an open beneficiarystatus. The lodgment security code number was alsorevealed to me, he then advised me to look for areliable business partner abroad, that will assist mein investing the money in a lucrative business as aresult of economic instability in Nigeria. So this isthe main reason why I am contacting you for us to movethis money from the security firm to any Country ofyour choice for investment purpose. So I will like you to be the ultimate beneficiary, sothat the funds can be moved in your name andparticulars to any Country of your choice where itwill be claimed and invested. Hence my father have hadintimated the security firm personnel that thebeneficiary of the box is his foreign partner whoseparticulars will be forwarded to the firm when due. But I will guide you Accordingly. As soon as the fundsreach, I will then come over to meet you in person, sothat we can discuss physically on investmentpotentials. Based on this assistance my Family and Ihave unanimously decided to give you 30% of the totalmoney, 5% for Charity home, 10% for expenses, whichmay arise during this transaction, Fax and phone billsinclusive. The balance of 55% you will invest andmanaged for my Family. I hereby guarantee you that this is not governmentmoney, it is not drug money and it is not money fromarms deal. Though you have to maintain high degree ofconfidentiality on this matter. I will give moredetails about the proceedings of this transaction assoon as I receive your favorable reply. Please reply to my Email Address:obong_715@epatra.comI hope this will be the beginning of a prosperousrelationship between my family and your family. Nevertheless if you are for any reason not interested,kindly inform me immediately so that I will look foranother contact. I am waiting for your quick response. Yours faithfully, Prince Obong Abbot ']"
      ]
     },
     "execution_count": 11,
     "metadata": {},
     "output_type": "execute_result"
    }
   ],
   "source": [
    "email_list = []\n",
    "l = sorted_email.split(\"From r\")\n",
    "for i in l:\n",
    "    if(i):\n",
    "        email_list.append(i)\n",
    "email_list"
   ]
  },
  {
   "cell_type": "markdown",
   "metadata": {},
   "source": [
    "Getting the following data<br>\n",
    "a. sender_name<br>\n",
    "b. sender_address<br>\n",
    "c. recipient_address<br>\n",
    "d. recipient_name<br>\n",
    "e. date_sent<br>\n",
    "f. subject<br>\n",
    "g. email_body<br>"
   ]
  },
  {
   "cell_type": "code",
   "execution_count": 12,
   "metadata": {},
   "outputs": [
    {
     "name": "stdout",
     "output_type": "stream",
     "text": [
      "Sender Names: ['Mr. Ben Suleman', 'PRINCE OBONG ELEME'] \n",
      "Sender Address ['bensul2004nng@spinfinder.com', 'obong_715@epatra.com'] \n",
      "Recipient Address: ['R@M', 'webmaster@aclweb.org'] \n",
      "Date Sent:  ['Thu Oct 31 08:11:39 2002', 'Thu Oct 31 17:27:16 2002'] \n",
      "Subject:  ['URGENT ASSISTANCE /RELATIONSHIP (P)MIME', 'GOOD DAY TO YOUX'] \n",
      "Email Body:\n",
      " [[('', 'I am Mr. Ben Suleman a custom officer and work as Assistant controller of the Customs and Excise department Of the Federal Ministry of Internal Affairs stationed at the Murtala Mohammed International Airport, Ikeja, Lagos-Nigeria.After the sudden death of the former Head of state of Nigeria General Sanni Abacha on June 8th 1998 his aides and immediate members of his family were arrested while trying to escape from Nigeria in a Chartered jet to Saudi Arabia with 6 trunk boxes Marked \"Diplomatic Baggage\". Acting on a tip-off as they attempted to board the Air Craft,my officials carried out a thorough search on the air craft and discovered that the 6 trunk boxes contained foreign currencies amounting to US$197,570,000.00(One Hundred and  Ninety-Seven Million Five Hundred Seventy Thousand United States Dollars).I declared only (5) five boxes to the government and withheld one (1) in my custody containing the sum of (US$30,000,000.00) Thirty Million United States Dollars Only, which has been disguised to prevent their being discovered during transportation process.Due to several media reports on the late head of state about all the money him and his co-government officials stole from our government treasury amountingto US$55 Billion Dollars (ref:ngrguardiannews.com) of July 2nd 1999. Even the London times of July 1998 reported that General Abacha has over US$3.Billion dollars in one account overseas. We decided to conceal this one (1)box till the situation is calm and quite on the issue. The box was thus deposited with a security company here in Nigeria and tagged as \"Precious Stones and Jewellry\" in other that itscontent will not be discovered. Now that all is calm, we (myself and two of my colleagues in the operations team) are now ready to move this box out of the country through a diplomatic arrangement which is the safest means. However as government officials the Civil Service Code of Conduct does not allow us by law to operate any foreign account or own foreign investment and the amount of money that can be found in our accountcannot be more than our salary on the average, thus our handicapp and our need for your assistance to help collect and keep safely in your account this money.Therefore we want you to assist us in moving this money out of Nigeria. We shall definitely compensate you handsomely for the assistance. We can do this by instructing the Security Company here in Nigeria tomove the consignment to their affiliate branch office outside Nigeria through diplomatic means and the consignment will be termed as Precious Stones and Jewelleries\" which you bought during your visit to Nigeria and is being transfered to your country from here for safe keeping. Then we can arrange to meet at the destination country to take the delivery of the consignment. You will thereafter open an account there and lodge the Money there and gradually instruct remittance to your Country. This business is 100% risk free for you so please treat this matter with utmost confidentiality .If you indicate your interest to assist us please just e-mail me for more Explanation on how we plan to execute the transaction.Expecting your response urgently.Best regards,Mr. Ben Suleman')], [(' This letter might surprise you because we have metneither in person nor by correspondence. But I believeit is one day that you got to know somebody either inphysical or through correspondence. I got your contact through discreet inquiry from thechambers of commerce and industry of your country onthe net, you and your organization were revealed asbeing quite astute in private entrepreneurship, onehas no doubt in your ability to handle a financialbusiness transaction. However, I am the first son of His Royalmajesty,Obong.D. Eleme , and the traditional Ruler ofEleme Province in the oil producing area of RiverState of Nigeria. I am making this contact to you inrespect of US$60,000,000.00 (Sixty Million UnitedState Dollars), which I inherited, from my latefather. This money was accumulated from royalties paid to myfather as compensation by the oil firms located in ourarea as a result of oil presence on our land, whichhamper agriculture, which is our major source oflivelihood. Unfortunately my father died from protracteddiabetes.But before his death he called my attentionand informed me that he lodged some funds on a twoboxes with a security firm with an open beneficiarystatus. The lodgment security code number was alsorevealed to me, he then advised me to look for areliable business partner abroad, that will assist mein investing the money in a lucrative business as aresult of economic instability in Nigeria. So this isthe main reason why I am contacting you for us to movethis money from the security firm to any Country ofyour choice for investment purpose. So I will like you to be the ultimate beneficiary, sothat the funds can be moved in your name andparticulars to any Country of your choice where itwill be claimed and invested. Hence my father have hadintimated the security firm personnel that thebeneficiary of the box is his foreign partner whoseparticulars will be forwarded to the firm when due. But I will guide you Accordingly. As soon as the fundsreach, I will then come over to meet you in person, sothat we can discuss physically on investmentpotentials. Based on this assistance my Family and Ihave unanimously decided to give you 30% of the totalmoney, 5% for Charity home, 10% for expenses, whichmay arise during this transaction, Fax and phone billsinclusive. The balance of 55% you will invest andmanaged for my Family. I hereby guarantee you that this is not governmentmoney, it is not drug money and it is not money fromarms deal. Though you have to maintain high degree ofconfidentiality on this matter. I will give moredetails about the proceedings of this transaction assoon as I receive your favorable reply. Please reply to my Email Address:obong_715@epatra.comI hope this will be the beginning of a prosperousrelationship between my family and your family. Nevertheless if you are for any reason not interested,kindly inform me immediately so that I will look foranother contact. I am waiting for your quick response. Yours faithfully, Prince Obong Abbot ', '')]]\n"
     ]
    }
   ],
   "source": [
    "# List to store the data\n",
    "sender_n = [] # list to store the name of the sender\n",
    "se_ad = [] # list to store the email of the sender\n",
    "re_ad =[] # list to store the recipient eamil\n",
    "date_sent= [] # list to store the Date of the email\n",
    "subject = [] # list to store the subject of the email\n",
    "email_body = [] # list to store the body of the email\n",
    "\n",
    "# Regular Expressions for all \n",
    "s_n_r  = re.compile(r'From: \"(\\D+)\"')\n",
    "s_emil_r = re.compile(r\"\\w+\\@\\w+\\.(com)\")\n",
    "re_em_r =re.compile(r\"To: (\\w+\\@\\w([a-z]+\\.org)?)\") #\n",
    "sub_r =  re.compile(r\"Subject: (\\w+\\s\\w+\\s[A-Z\\/]+\\s[A-Z\\(\\)]+)\") #/\n",
    "date_re = re.compile(r\"\\w{3}\\s\\w{3}\\s\\d{2}\\s\\d{2}\\:\\d{2}\\:\\d{2}\\s\\d{4}\")\n",
    "body_re = re.compile(r\"Madam.(.+)|Friend,(.+)\") #\n",
    "\n",
    "# now looping through the list we have made above to get all the things\n",
    "for el in email_list:\n",
    "    sn =s_n_r.finditer(el)\n",
    "    for i in sn:\n",
    "        sender_n.append(i.group(1))\n",
    "    # loop to get all the sender email\n",
    "    e = s_emil_r.finditer(el)\n",
    "    for i in e:\n",
    "        se_ad.append(i.group())\n",
    "\n",
    "    re_a = re_em_r.finditer(el)\n",
    "    for i in re_a:\n",
    "        re_ad.append(i.group(1))\n",
    "    \n",
    "    da = date_re.finditer(el)\n",
    "    for i in da:\n",
    "        date_sent.append(i.group())\n",
    "\n",
    "    su = sub_r.finditer(el)\n",
    "    for i in su:\n",
    "        subject.append(i.group(1))\n",
    "\n",
    "    \n",
    "    email_body.append(body_re.findall(el))\n",
    "\n",
    "se_ad = list(set(se_ad)) # to remove the duplicate the emails\n",
    "del re_ad[1] \n",
    "\n",
    "print(\"Sender Names:\",sender_n ,\n",
    "\"\\nSender Address\",se_ad ,\n",
    "\"\\nRecipient Address:\",re_ad ,\n",
    "\"\\nDate Sent: \",date_sent,\n",
    "\"\\nSubject: \",subject ,\n",
    "\"\\nEmail Body:\\n\",email_body )\n",
    "\n"
   ]
  },
  {
   "cell_type": "markdown",
   "metadata": {},
   "source": [
    "Making Data Frame \n"
   ]
  },
  {
   "cell_type": "code",
   "execution_count": 13,
   "metadata": {},
   "outputs": [
    {
     "data": {
      "text/html": [
       "<div>\n",
       "<style scoped>\n",
       "    .dataframe tbody tr th:only-of-type {\n",
       "        vertical-align: middle;\n",
       "    }\n",
       "\n",
       "    .dataframe tbody tr th {\n",
       "        vertical-align: top;\n",
       "    }\n",
       "\n",
       "    .dataframe thead th {\n",
       "        text-align: right;\n",
       "    }\n",
       "</style>\n",
       "<table border=\"1\" class=\"dataframe\">\n",
       "  <thead>\n",
       "    <tr style=\"text-align: right;\">\n",
       "      <th></th>\n",
       "      <th>Sender Name</th>\n",
       "      <th>Sender Email</th>\n",
       "      <th>Recipient Address</th>\n",
       "      <th>Date of Email</th>\n",
       "      <th>Subject of Email</th>\n",
       "      <th>Email Body</th>\n",
       "    </tr>\n",
       "  </thead>\n",
       "  <tbody>\n",
       "    <tr>\n",
       "      <th>0</th>\n",
       "      <td>Mr. Ben Suleman</td>\n",
       "      <td>bensul2004nng@spinfinder.com</td>\n",
       "      <td>R@M</td>\n",
       "      <td>Thu Oct 31 08:11:39 2002</td>\n",
       "      <td>URGENT ASSISTANCE /RELATIONSHIP (P)MIME</td>\n",
       "      <td>[(, I am Mr. Ben Suleman a custom officer and ...</td>\n",
       "    </tr>\n",
       "    <tr>\n",
       "      <th>1</th>\n",
       "      <td>PRINCE OBONG ELEME</td>\n",
       "      <td>obong_715@epatra.com</td>\n",
       "      <td>webmaster@aclweb.org</td>\n",
       "      <td>Thu Oct 31 17:27:16 2002</td>\n",
       "      <td>GOOD DAY TO YOUX</td>\n",
       "      <td>[( This letter might surprise you because we h...</td>\n",
       "    </tr>\n",
       "  </tbody>\n",
       "</table>\n",
       "</div>"
      ],
      "text/plain": [
       "          Sender Name                  Sender Email     Recipient Address  \\\n",
       "0     Mr. Ben Suleman  bensul2004nng@spinfinder.com                   R@M   \n",
       "1  PRINCE OBONG ELEME          obong_715@epatra.com  webmaster@aclweb.org   \n",
       "\n",
       "              Date of Email                         Subject of Email  \\\n",
       "0  Thu Oct 31 08:11:39 2002  URGENT ASSISTANCE /RELATIONSHIP (P)MIME   \n",
       "1  Thu Oct 31 17:27:16 2002                         GOOD DAY TO YOUX   \n",
       "\n",
       "                                          Email Body  \n",
       "0  [(, I am Mr. Ben Suleman a custom officer and ...  \n",
       "1  [( This letter might surprise you because we h...  "
      ]
     },
     "execution_count": 13,
     "metadata": {},
     "output_type": "execute_result"
    }
   ],
   "source": [
    "dataframe_of_email_date =pd.DataFrame(\n",
    "    {\n",
    "        \"Sender Name\":sender_n,\n",
    "        \"Sender Email\":se_ad,\n",
    "        \"Recipient Address\":re_ad,\n",
    "        \"Date of Email\":date_sent,\n",
    "        \"Subject of Email\":subject,\n",
    "        \"Email Body\":email_body\n",
    "\n",
    "    }\n",
    ")\n",
    "\n",
    "dataframe_of_email_date"
   ]
  }
 ],
 "metadata": {
  "kernelspec": {
   "display_name": "Python 3.9.12 ('base')",
   "language": "python",
   "name": "python3"
  },
  "language_info": {
   "codemirror_mode": {
    "name": "ipython",
    "version": 3
   },
   "file_extension": ".py",
   "mimetype": "text/x-python",
   "name": "python",
   "nbconvert_exporter": "python",
   "pygments_lexer": "ipython3",
   "version": "3.9.12"
  },
  "orig_nbformat": 4,
  "vscode": {
   "interpreter": {
    "hash": "f3a52463084db90f96d29dcfcfd9bf276dba3c521d76c4c38c835392b64a093b"
   }
  }
 },
 "nbformat": 4,
 "nbformat_minor": 2
}
